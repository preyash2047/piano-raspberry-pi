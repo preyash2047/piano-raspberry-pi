{
 "cells": [
  {
   "cell_type": "code",
   "execution_count": null,
   "metadata": {},
   "outputs": [],
   "source": [
    "# sudo apt-get install python3-rpi.gpio\n",
    "import RPi.GPIO as GPIO\n",
    "import time"
   ]
  },
  {
   "cell_type": "code",
   "execution_count": null,
   "metadata": {},
   "outputs": [],
   "source": [
    "GPIO.setwarnings(False)   # Ignore Warnings\n",
    "GPIO.setmode(GPIO.BOARD)  # Use Physical Pin Numbering\n",
    "pin_to_circuit = 3"
   ]
  },
  {
   "cell_type": "code",
   "execution_count": null,
   "metadata": {},
   "outputs": [],
   "source": [
    "def rc_time (pin_to_circuit):\n",
    "    count = 0\n",
    "  \n",
    "    #Output on the pin for \n",
    "    GPIO.setup(pin_to_circuit, GPIO.OUT)\n",
    "    GPIO.output(pin_to_circuit, GPIO.LOW)\n",
    "    time.sleep(0.1)\n",
    "\n",
    "    #Change the pin back to input\n",
    "    GPIO.setup(pin_to_circuit, GPIO.IN)\n",
    "  \n",
    "    #Count until the pin goes high\n",
    "    while (GPIO.input(pin_to_circuit) == GPIO.LOW):\n",
    "        count += 1\n",
    "\n",
    "    return count"
   ]
  },
  {
   "cell_type": "code",
   "execution_count": null,
   "metadata": {},
   "outputs": [],
   "source": [
    "#Catch when script is interrupted, cleanup correctly\n",
    "try:\n",
    "    # Main loop\n",
    "    while True:\n",
    "        print(rc_time(pin_to_circuit))\n",
    "except KeyboardInterrupt:\n",
    "    pass\n",
    "finally:\n",
    "    GPIO.cleanup()"
   ]
  }
 ],
 "metadata": {
  "kernelspec": {
   "display_name": "Python 3",
   "language": "python",
   "name": "python3"
  },
  "language_info": {
   "codemirror_mode": {
    "name": "ipython",
    "version": 3
   },
   "file_extension": ".py",
   "mimetype": "text/x-python",
   "name": "python",
   "nbconvert_exporter": "python",
   "pygments_lexer": "ipython3",
   "version": "3.8.1"
  }
 },
 "nbformat": 4,
 "nbformat_minor": 4
}
